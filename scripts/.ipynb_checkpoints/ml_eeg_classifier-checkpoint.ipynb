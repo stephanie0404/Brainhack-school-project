{
 "cells": [
  {
   "cell_type": "code",
   "execution_count": 1,
   "id": "9514ab7b",
   "metadata": {},
   "outputs": [],
   "source": [
    "#%pip install keras"
   ]
  },
  {
   "cell_type": "code",
   "execution_count": 2,
   "id": "819dbdcf",
   "metadata": {},
   "outputs": [],
   "source": [
    "#%pip install tensorflow"
   ]
  },
  {
   "cell_type": "code",
   "execution_count": 15,
   "id": "5fefe726",
   "metadata": {},
   "outputs": [],
   "source": [
    "import pandas as pd\n",
    "from sklearn.model_selection import train_test_split\n",
    "from sklearn.preprocessing import LabelEncoder\n",
    "from sklearn.metrics import accuracy_score\n",
    "from sklearn.metrics import classification_report\n",
    "import matplotlib.pyplot as plt\n",
    "import numpy as np\n",
    "import seaborn as sns\n",
    "import matplotlib.pyplot as plt\n",
    "from sklearn.metrics import confusion_matrix"
   ]
  },
  {
   "cell_type": "code",
   "execution_count": 16,
   "id": "2753b67e",
   "metadata": {},
   "outputs": [],
   "source": [
    "data = pd.read_csv('../data/eeg/filtered_eeg_labelled.csv')"
   ]
  },
  {
   "cell_type": "code",
   "execution_count": 17,
   "id": "1d80b358",
   "metadata": {},
   "outputs": [],
   "source": [
    "# Split the data into features (X) and the target variable (y):\n",
    "X = data[['F3', 'F4', 'Fz', 'FCz', 'Cz', 'Pz', 'O1', 'O2']]\n",
    "y = data['correct']"
   ]
  },
  {
   "cell_type": "code",
   "execution_count": 18,
   "id": "1ccf0f4e",
   "metadata": {},
   "outputs": [],
   "source": [
    "# Convert the 'correct' column from boolean values to numeric labels (0 and 1)\n",
    "label_encoder = LabelEncoder()\n",
    "y = label_encoder.fit_transform(y)"
   ]
  },
  {
   "cell_type": "code",
   "execution_count": 19,
   "id": "294d2742",
   "metadata": {},
   "outputs": [],
   "source": [
    "# Split the data into training and testing sets\n",
    "X_train, X_test, y_train, y_test = train_test_split(X, y, test_size=0.2, random_state=42)"
   ]
  },
  {
   "cell_type": "code",
   "execution_count": 20,
   "id": "3c0d4ab6",
   "metadata": {},
   "outputs": [
    {
     "name": "stdout",
     "output_type": "stream",
     "text": [
      "(61351,)\n",
      "(61351, 8)\n"
     ]
    }
   ],
   "source": [
    "print(y.shape)\n",
    "print(X.shape)"
   ]
  },
  {
   "cell_type": "markdown",
   "id": "b0f75e0d",
   "metadata": {},
   "source": [
    "### Here, we attempt to use a random forest classifier."
   ]
  },
  {
   "cell_type": "code",
   "execution_count": 21,
   "id": "2d641fcb",
   "metadata": {},
   "outputs": [],
   "source": [
    "from sklearn.ensemble import RandomForestClassifier"
   ]
  },
  {
   "cell_type": "code",
   "execution_count": 22,
   "id": "dcfa834f",
   "metadata": {},
   "outputs": [
    {
     "data": {
      "text/html": [
       "<style>#sk-container-id-2 {color: black;background-color: white;}#sk-container-id-2 pre{padding: 0;}#sk-container-id-2 div.sk-toggleable {background-color: white;}#sk-container-id-2 label.sk-toggleable__label {cursor: pointer;display: block;width: 100%;margin-bottom: 0;padding: 0.3em;box-sizing: border-box;text-align: center;}#sk-container-id-2 label.sk-toggleable__label-arrow:before {content: \"▸\";float: left;margin-right: 0.25em;color: #696969;}#sk-container-id-2 label.sk-toggleable__label-arrow:hover:before {color: black;}#sk-container-id-2 div.sk-estimator:hover label.sk-toggleable__label-arrow:before {color: black;}#sk-container-id-2 div.sk-toggleable__content {max-height: 0;max-width: 0;overflow: hidden;text-align: left;background-color: #f0f8ff;}#sk-container-id-2 div.sk-toggleable__content pre {margin: 0.2em;color: black;border-radius: 0.25em;background-color: #f0f8ff;}#sk-container-id-2 input.sk-toggleable__control:checked~div.sk-toggleable__content {max-height: 200px;max-width: 100%;overflow: auto;}#sk-container-id-2 input.sk-toggleable__control:checked~label.sk-toggleable__label-arrow:before {content: \"▾\";}#sk-container-id-2 div.sk-estimator input.sk-toggleable__control:checked~label.sk-toggleable__label {background-color: #d4ebff;}#sk-container-id-2 div.sk-label input.sk-toggleable__control:checked~label.sk-toggleable__label {background-color: #d4ebff;}#sk-container-id-2 input.sk-hidden--visually {border: 0;clip: rect(1px 1px 1px 1px);clip: rect(1px, 1px, 1px, 1px);height: 1px;margin: -1px;overflow: hidden;padding: 0;position: absolute;width: 1px;}#sk-container-id-2 div.sk-estimator {font-family: monospace;background-color: #f0f8ff;border: 1px dotted black;border-radius: 0.25em;box-sizing: border-box;margin-bottom: 0.5em;}#sk-container-id-2 div.sk-estimator:hover {background-color: #d4ebff;}#sk-container-id-2 div.sk-parallel-item::after {content: \"\";width: 100%;border-bottom: 1px solid gray;flex-grow: 1;}#sk-container-id-2 div.sk-label:hover label.sk-toggleable__label {background-color: #d4ebff;}#sk-container-id-2 div.sk-serial::before {content: \"\";position: absolute;border-left: 1px solid gray;box-sizing: border-box;top: 0;bottom: 0;left: 50%;z-index: 0;}#sk-container-id-2 div.sk-serial {display: flex;flex-direction: column;align-items: center;background-color: white;padding-right: 0.2em;padding-left: 0.2em;position: relative;}#sk-container-id-2 div.sk-item {position: relative;z-index: 1;}#sk-container-id-2 div.sk-parallel {display: flex;align-items: stretch;justify-content: center;background-color: white;position: relative;}#sk-container-id-2 div.sk-item::before, #sk-container-id-2 div.sk-parallel-item::before {content: \"\";position: absolute;border-left: 1px solid gray;box-sizing: border-box;top: 0;bottom: 0;left: 50%;z-index: -1;}#sk-container-id-2 div.sk-parallel-item {display: flex;flex-direction: column;z-index: 1;position: relative;background-color: white;}#sk-container-id-2 div.sk-parallel-item:first-child::after {align-self: flex-end;width: 50%;}#sk-container-id-2 div.sk-parallel-item:last-child::after {align-self: flex-start;width: 50%;}#sk-container-id-2 div.sk-parallel-item:only-child::after {width: 0;}#sk-container-id-2 div.sk-dashed-wrapped {border: 1px dashed gray;margin: 0 0.4em 0.5em 0.4em;box-sizing: border-box;padding-bottom: 0.4em;background-color: white;}#sk-container-id-2 div.sk-label label {font-family: monospace;font-weight: bold;display: inline-block;line-height: 1.2em;}#sk-container-id-2 div.sk-label-container {text-align: center;}#sk-container-id-2 div.sk-container {/* jupyter's `normalize.less` sets `[hidden] { display: none; }` but bootstrap.min.css set `[hidden] { display: none !important; }` so we also need the `!important` here to be able to override the default hidden behavior on the sphinx rendered scikit-learn.org. See: https://github.com/scikit-learn/scikit-learn/issues/21755 */display: inline-block !important;position: relative;}#sk-container-id-2 div.sk-text-repr-fallback {display: none;}</style><div id=\"sk-container-id-2\" class=\"sk-top-container\"><div class=\"sk-text-repr-fallback\"><pre>RandomForestClassifier()</pre><b>In a Jupyter environment, please rerun this cell to show the HTML representation or trust the notebook. <br />On GitHub, the HTML representation is unable to render, please try loading this page with nbviewer.org.</b></div><div class=\"sk-container\" hidden><div class=\"sk-item\"><div class=\"sk-estimator sk-toggleable\"><input class=\"sk-toggleable__control sk-hidden--visually\" id=\"sk-estimator-id-2\" type=\"checkbox\" checked><label for=\"sk-estimator-id-2\" class=\"sk-toggleable__label sk-toggleable__label-arrow\">RandomForestClassifier</label><div class=\"sk-toggleable__content\"><pre>RandomForestClassifier()</pre></div></div></div></div></div>"
      ],
      "text/plain": [
       "RandomForestClassifier()"
      ]
     },
     "execution_count": 22,
     "metadata": {},
     "output_type": "execute_result"
    }
   ],
   "source": [
    "# Random forest classifier\n",
    "model_forest = RandomForestClassifier()\n",
    "model_forest.fit(X_train, y_train)"
   ]
  },
  {
   "cell_type": "code",
   "execution_count": 23,
   "id": "1a1d1d36",
   "metadata": {},
   "outputs": [],
   "source": [
    "# Make predictions on the test set\n",
    "y_pred = model_forest.predict(X_test)"
   ]
  },
  {
   "cell_type": "code",
   "execution_count": 24,
   "id": "5cc013b2",
   "metadata": {},
   "outputs": [
    {
     "name": "stdout",
     "output_type": "stream",
     "text": [
      "Accuracy: 0.8923478119142694\n"
     ]
    }
   ],
   "source": [
    "# Evaluate the model's performance using accuracy:\n",
    "\n",
    "accuracy = accuracy_score(y_test, y_pred)\n",
    "print(\"Accuracy:\", accuracy)"
   ]
  },
  {
   "cell_type": "code",
   "execution_count": 25,
   "id": "ae251d65",
   "metadata": {},
   "outputs": [
    {
     "data": {
      "image/png": "[encoded data removed]",
      "text/plain": [
       "<Figure size 640x480 with 1 Axes>"
      ]
     },
     "metadata": {},
     "output_type": "display_data"
    }
   ],
   "source": [
    "# Random forest feature importance\n",
    "\n",
    "feature_importance = model_forest.feature_importances_\n",
    "feature_names = X.columns\n",
    "\n",
    "plt.bar(feature_names, feature_importance)\n",
    "plt.xlabel('Features')\n",
    "plt.ylabel('Importance')\n",
    "plt.title('Feature Importance (Random Forest)')\n",
    "plt.xticks(rotation=45)\n",
    "plt.show()"
   ]
  },
  {
   "cell_type": "code",
   "execution_count": 27,
   "id": "ea6a9166",
   "metadata": {},
   "outputs": [
    {
     "name": "stdout",
     "output_type": "stream",
     "text": [
      "              precision    recall  f1-score   support\n",
      "\n",
      "           0       0.85      0.98      0.91      7094\n",
      "           1       0.97      0.77      0.86      5177\n",
      "\n",
      "    accuracy                           0.89     12271\n",
      "   macro avg       0.91      0.88      0.89     12271\n",
      "weighted avg       0.90      0.89      0.89     12271\n",
      "\n"
     ]
    }
   ],
   "source": [
    "# Classification Report\n",
    "# Prepare test data\n",
    "y_true = y_test\n",
    "y_pred = model_forest.predict(X_test)\n",
    "\n",
    "#Print report\n",
    "report = classification_report(y_true, y_pred)\n",
    "print(report)"
   ]
  },
  {
   "cell_type": "code",
   "execution_count": 28,
   "id": "b7db2764",
   "metadata": {},
   "outputs": [
    {
     "data": {
      "image/png": "[encoded data removed]",
      "text/plain": [
       "<Figure size 640x480 with 2 Axes>"
      ]
     },
     "metadata": {},
     "output_type": "display_data"
    }
   ],
   "source": [
    "# Calculate confusion matrix\n",
    "cm = confusion_matrix(y_true, y_pred)\n",
    "\n",
    "# Plot the confusion matrix on a heatmap\n",
    "sns.heatmap(cm, annot=True, fmt='d', cmap='Blues')\n",
    "plt.title('Confusion Matrix (Random Forest)')\n",
    "plt.xlabel('Predicted Labels')\n",
    "plt.ylabel('True Labels')\n",
    "plt.show()"
   ]
  },
  {
   "cell_type": "markdown",
   "id": "2844cd96",
   "metadata": {},
   "source": [
    "### Here, we attempt to use a logistic regression (logit) model."
   ]
  },
  {
   "cell_type": "code",
   "execution_count": 29,
   "id": "45cfa0f7",
   "metadata": {},
   "outputs": [],
   "source": [
    "from sklearn.linear_model import LogisticRegression"
   ]
  },
  {
   "cell_type": "code",
   "execution_count": 30,
   "id": "d4d9695d",
   "metadata": {},
   "outputs": [
    {
     "data": {
      "text/html": [
       "<style>#sk-container-id-3 {color: black;background-color: white;}#sk-container-id-3 pre{padding: 0;}#sk-container-id-3 div.sk-toggleable {background-color: white;}#sk-container-id-3 label.sk-toggleable__label {cursor: pointer;display: block;width: 100%;margin-bottom: 0;padding: 0.3em;box-sizing: border-box;text-align: center;}#sk-container-id-3 label.sk-toggleable__label-arrow:before {content: \"▸\";float: left;margin-right: 0.25em;color: #696969;}#sk-container-id-3 label.sk-toggleable__label-arrow:hover:before {color: black;}#sk-container-id-3 div.sk-estimator:hover label.sk-toggleable__label-arrow:before {color: black;}#sk-container-id-3 div.sk-toggleable__content {max-height: 0;max-width: 0;overflow: hidden;text-align: left;background-color: #f0f8ff;}#sk-container-id-3 div.sk-toggleable__content pre {margin: 0.2em;color: black;border-radius: 0.25em;background-color: #f0f8ff;}#sk-container-id-3 input.sk-toggleable__control:checked~div.sk-toggleable__content {max-height: 200px;max-width: 100%;overflow: auto;}#sk-container-id-3 input.sk-toggleable__control:checked~label.sk-toggleable__label-arrow:before {content: \"▾\";}#sk-container-id-3 div.sk-estimator input.sk-toggleable__control:checked~label.sk-toggleable__label {background-color: #d4ebff;}#sk-container-id-3 div.sk-label input.sk-toggleable__control:checked~label.sk-toggleable__label {background-color: #d4ebff;}#sk-container-id-3 input.sk-hidden--visually {border: 0;clip: rect(1px 1px 1px 1px);clip: rect(1px, 1px, 1px, 1px);height: 1px;margin: -1px;overflow: hidden;padding: 0;position: absolute;width: 1px;}#sk-container-id-3 div.sk-estimator {font-family: monospace;background-color: #f0f8ff;border: 1px dotted black;border-radius: 0.25em;box-sizing: border-box;margin-bottom: 0.5em;}#sk-container-id-3 div.sk-estimator:hover {background-color: #d4ebff;}#sk-container-id-3 div.sk-parallel-item::after {content: \"\";width: 100%;border-bottom: 1px solid gray;flex-grow: 1;}#sk-container-id-3 div.sk-label:hover label.sk-toggleable__label {background-color: #d4ebff;}#sk-container-id-3 div.sk-serial::before {content: \"\";position: absolute;border-left: 1px solid gray;box-sizing: border-box;top: 0;bottom: 0;left: 50%;z-index: 0;}#sk-container-id-3 div.sk-serial {display: flex;flex-direction: column;align-items: center;background-color: white;padding-right: 0.2em;padding-left: 0.2em;position: relative;}#sk-container-id-3 div.sk-item {position: relative;z-index: 1;}#sk-container-id-3 div.sk-parallel {display: flex;align-items: stretch;justify-content: center;background-color: white;position: relative;}#sk-container-id-3 div.sk-item::before, #sk-container-id-3 div.sk-parallel-item::before {content: \"\";position: absolute;border-left: 1px solid gray;box-sizing: border-box;top: 0;bottom: 0;left: 50%;z-index: -1;}#sk-container-id-3 div.sk-parallel-item {display: flex;flex-direction: column;z-index: 1;position: relative;background-color: white;}#sk-container-id-3 div.sk-parallel-item:first-child::after {align-self: flex-end;width: 50%;}#sk-container-id-3 div.sk-parallel-item:last-child::after {align-self: flex-start;width: 50%;}#sk-container-id-3 div.sk-parallel-item:only-child::after {width: 0;}#sk-container-id-3 div.sk-dashed-wrapped {border: 1px dashed gray;margin: 0 0.4em 0.5em 0.4em;box-sizing: border-box;padding-bottom: 0.4em;background-color: white;}#sk-container-id-3 div.sk-label label {font-family: monospace;font-weight: bold;display: inline-block;line-height: 1.2em;}#sk-container-id-3 div.sk-label-container {text-align: center;}#sk-container-id-3 div.sk-container {/* jupyter's `normalize.less` sets `[hidden] { display: none; }` but bootstrap.min.css set `[hidden] { display: none !important; }` so we also need the `!important` here to be able to override the default hidden behavior on the sphinx rendered scikit-learn.org. See: https://github.com/scikit-learn/scikit-learn/issues/21755 */display: inline-block !important;position: relative;}#sk-container-id-3 div.sk-text-repr-fallback {display: none;}</style><div id=\"sk-container-id-3\" class=\"sk-top-container\"><div class=\"sk-text-repr-fallback\"><pre>LogisticRegression()</pre><b>In a Jupyter environment, please rerun this cell to show the HTML representation or trust the notebook. <br />On GitHub, the HTML representation is unable to render, please try loading this page with nbviewer.org.</b></div><div class=\"sk-container\" hidden><div class=\"sk-item\"><div class=\"sk-estimator sk-toggleable\"><input class=\"sk-toggleable__control sk-hidden--visually\" id=\"sk-estimator-id-3\" type=\"checkbox\" checked><label for=\"sk-estimator-id-3\" class=\"sk-toggleable__label sk-toggleable__label-arrow\">LogisticRegression</label><div class=\"sk-toggleable__content\"><pre>LogisticRegression()</pre></div></div></div></div></div>"
      ],
      "text/plain": [
       "LogisticRegression()"
      ]
     },
     "execution_count": 30,
     "metadata": {},
     "output_type": "execute_result"
    }
   ],
   "source": [
    "# Train logistic regression model\n",
    "logit = LogisticRegression()\n",
    "logit.fit(X_train, y_train)"
   ]
  },
  {
   "cell_type": "code",
   "execution_count": 31,
   "id": "de1465d0",
   "metadata": {},
   "outputs": [],
   "source": [
    "# Make predictions on the test set\n",
    "logit_pred = logit.predict(X_test)"
   ]
  },
  {
   "cell_type": "code",
   "execution_count": 32,
   "id": "82b14998",
   "metadata": {},
   "outputs": [
    {
     "name": "stdout",
     "output_type": "stream",
     "text": [
      "Accuracy: 0.5955504848830576\n"
     ]
    }
   ],
   "source": [
    "# Evaluate the model's performance using accuracy:\n",
    "\n",
    "accuracy_logit = accuracy_score(y_test, logit_pred)\n",
    "print(\"Accuracy:\", accuracy_logit)\n",
    "\n",
    "# lower accuracy than random forest"
   ]
  },
  {
   "cell_type": "code",
   "execution_count": 33,
   "id": "4a7a05a9",
   "metadata": {},
   "outputs": [
    {
     "data": {
      "image/png": "[encoded data removed]",
      "text/plain": [
       "<Figure size 640x480 with 1 Axes>"
      ]
     },
     "metadata": {},
     "output_type": "display_data"
    }
   ],
   "source": [
    "# Logit feature importance\n",
    "# Get the absolute coefficient values\n",
    "coefficient_values = np.abs(logit.coef_[0])\n",
    "feature_names = X.columns\n",
    "\n",
    "# Plot feature importance\n",
    "plt.bar(feature_names, coefficient_values)\n",
    "plt.xlabel('Features')\n",
    "plt.ylabel('Coefficient Magnitude (Importance)')\n",
    "plt.title('Feature Importance (Logit)')\n",
    "plt.xticks(rotation=45)\n",
    "plt.show()"
   ]
  },
  {
   "cell_type": "code",
   "execution_count": 35,
   "id": "3c3035a4",
   "metadata": {},
   "outputs": [
    {
     "name": "stdout",
     "output_type": "stream",
     "text": [
      "Logistic Regression Report:\n",
      "              precision    recall  f1-score   support\n",
      "\n",
      "           0       0.59      0.99      0.74      7094\n",
      "           1       0.83      0.05      0.10      5177\n",
      "\n",
      "    accuracy                           0.60     12271\n",
      "   macro avg       0.71      0.52      0.42     12271\n",
      "weighted avg       0.69      0.60      0.47     12271\n",
      "\n"
     ]
    }
   ],
   "source": [
    "# Classification Report\n",
    "logit_report = classification_report(y_test, logit_pred)\n",
    "print(\"Logistic Regression Report:\")\n",
    "print(logit_report)"
   ]
  },
  {
   "cell_type": "code",
   "execution_count": 36,
   "id": "4cad59ef",
   "metadata": {},
   "outputs": [
    {
     "data": {
      "image/png": "[encoded data removed]",
      "text/plain": [
       "<Figure size 640x480 with 2 Axes>"
      ]
     },
     "metadata": {},
     "output_type": "display_data"
    }
   ],
   "source": [
    "# Calculate confusion matrix\n",
    "cm_logit = confusion_matrix(y_test, logit_pred)\n",
    "\n",
    "# Plot the confusion matrix on a heatmap\n",
    "sns.heatmap(cm_logit, annot=True, fmt='d', cmap='Blues')\n",
    "plt.title('Confusion Matrix (Logit)')\n",
    "plt.xlabel('Predicted Labels')\n",
    "plt.ylabel('True Labels')\n",
    "plt.show()"
   ]
  },
  {
   "cell_type": "markdown",
   "id": "3e63f01f",
   "metadata": {},
   "source": [
    "### Here, we attempt to use a k-nearest neighbours classifier."
   ]
  },
  {
   "cell_type": "code",
   "execution_count": null,
   "id": "1defc61a",
   "metadata": {},
   "outputs": [],
   "source": [
    "from sklearn.neighbors import KNeighborsClassifier"
   ]
  },
  {
   "cell_type": "code",
   "execution_count": null,
   "id": "c281568b",
   "metadata": {},
   "outputs": [],
   "source": [
    "# Train kNN classifier\n",
    "knn = KNeighborsClassifier(n_neighbors=1)\n",
    "knn.fit(X_train, y_train)"
   ]
  },
  {
   "cell_type": "code",
   "execution_count": null,
   "id": "9361c5c8",
   "metadata": {},
   "outputs": [],
   "source": [
    "# Make predictions on the test set\n",
    "knn_pred = knn.predict(X_test)"
   ]
  },
  {
   "cell_type": "code",
   "execution_count": null,
   "id": "fb99a975",
   "metadata": {},
   "outputs": [],
   "source": [
    "# Evaluate the model's performance using accuracy:\n",
    "\n",
    "accuracy_knn = accuracy_score(y_test, knn_pred)\n",
    "print(\"Accuracy:\", accuracy_knn)\n",
    "\n",
    "# Better accuracy than random forest!"
   ]
  },
  {
   "cell_type": "code",
   "execution_count": null,
   "id": "fc728039",
   "metadata": {},
   "outputs": [],
   "source": [
    "# KNN Feature importance\n",
    "from sklearn.inspection import permutation_importance\n",
    "\n",
    "# Calculate feature importance using permutation importance\n",
    "result = permutation_importance(knn, X_test, y_test, n_repeats=10, random_state=42)\n",
    "feature_importance = result.importances_mean\n",
    "feature_names = X.columns\n",
    "\n",
    "# Plot feature importance\n",
    "plt.bar(feature_names, feature_importance)\n",
    "plt.xlabel('Features')\n",
    "plt.ylabel('Importance')\n",
    "plt.title('Feature Importance (kNN)')\n",
    "plt.xticks(rotation=45)\n",
    "plt.show()"
   ]
  },
  {
   "cell_type": "code",
   "execution_count": null,
   "id": "425e1f15",
   "metadata": {},
   "outputs": [],
   "source": [
    "# Classification report\n",
    "knn_report = classification_report(y_test, knn_pred)\n",
    "print(\"kNN Classifier Report:\")\n",
    "print(knn_report)"
   ]
  },
  {
   "cell_type": "code",
   "execution_count": null,
   "id": "469da41f",
   "metadata": {},
   "outputs": [],
   "source": [
    "# Calculate confusion matrix\n",
    "cm_knn = confusion_matrix(y_test, knn_pred)\n",
    "\n",
    "# Plot the confusion matrix on a heatmap\n",
    "sns.heatmap(cm_knn, annot=True, fmt='d', cmap='Blues')\n",
    "plt.title('Confusion Matrix (kNN Classifier)')\n",
    "plt.xlabel('Predicted Labels')\n",
    "plt.ylabel('True Labels')\n",
    "plt.show()"
   ]
  },
  {
   "cell_type": "markdown",
   "id": "6b14876c",
   "metadata": {},
   "source": [
    "### Here, we attempt to use a multilayer perceptron classifier."
   ]
  },
  {
   "cell_type": "code",
   "execution_count": null,
   "id": "13f98fe4",
   "metadata": {},
   "outputs": [],
   "source": [
    "from sklearn.neural_network import MLPClassifier"
   ]
  },
  {
   "cell_type": "code",
   "execution_count": null,
   "id": "1d196735",
   "metadata": {},
   "outputs": [],
   "source": [
    "# Train MLP classifier\n",
    "mlp = MLPClassifier(hidden_layer_sizes=(150,100,50), max_iter=300,activation = 'relu',solver='adam',random_state=1)\n",
    "mlp.fit(X_train, y_train)"
   ]
  },
  {
   "cell_type": "code",
   "execution_count": null,
   "id": "4ececedb",
   "metadata": {},
   "outputs": [],
   "source": [
    "# Make predictions on the test set\n",
    "mlp_pred = mlp.predict(X_test)"
   ]
  },
  {
   "cell_type": "code",
   "execution_count": null,
   "id": "f5bc8376",
   "metadata": {},
   "outputs": [],
   "source": [
    "# Evaluate the model's performance using accuracy:\n",
    "\n",
    "accuracy_mlp = accuracy_score(y_test, mlp_pred)\n",
    "print(\"Accuracy:\", accuracy_mlp)\n",
    "\n",
    "# Worst accuracy than random forest and kNN! Only slightly better than logit..."
   ]
  },
  {
   "cell_type": "code",
   "execution_count": null,
   "id": "56866638",
   "metadata": {},
   "outputs": [],
   "source": [
    "# MLP Feature importance\n",
    "# Get the weights connecting the input layer to the first hidden layer\n",
    "weights = mlp.coefs_[0]\n",
    "\n",
    "# Calculate the average absolute weight for each feature\n",
    "feature_importance = np.mean(np.abs(weights), axis=1)\n",
    "feature_names = X.columns\n",
    "\n",
    "plt.bar(feature_names, feature_importance)\n",
    "plt.xlabel('Features')\n",
    "plt.ylabel('Importance')\n",
    "plt.title('Feature Importance (MLP)')\n",
    "plt.xticks(rotation=45)\n",
    "plt.show()"
   ]
  },
  {
   "cell_type": "code",
   "execution_count": null,
   "id": "adc5c421",
   "metadata": {},
   "outputs": [],
   "source": [
    "# Classification report\n",
    "mlp_report = classification_report(y_test, mlp_pred)\n",
    "print(\"MLP Classifier Report:\")\n",
    "print(mlp_report)"
   ]
  },
  {
   "cell_type": "code",
   "execution_count": null,
   "id": "5ccbeb53",
   "metadata": {},
   "outputs": [],
   "source": [
    "# Calculate confusion matrix\n",
    "cm_mlp = confusion_matrix(y_test, mlp_pred)\n",
    "\n",
    "# Plot the confusion matrix on a heatmap\n",
    "sns.heatmap(cm_mlp, annot=True, fmt='d', cmap='Blues')\n",
    "plt.title('Confusion Matrix (MLP Classifier)')\n",
    "plt.xlabel('Predicted Labels')\n",
    "plt.ylabel('True Labels')\n",
    "plt.show()"
   ]
  },
  {
   "cell_type": "markdown",
   "id": "b6f5e2df",
   "metadata": {},
   "source": [
    "We can also try using Tensorflow and Keras as below. (Untested)"
   ]
  },
  {
   "cell_type": "code",
   "execution_count": null,
   "id": "228bc47d",
   "metadata": {},
   "outputs": [],
   "source": [
    "from keras.models import Sequential\n",
    "from keras.layers import Dense"
   ]
  },
  {
   "cell_type": "code",
   "execution_count": null,
   "id": "dbb1093a",
   "metadata": {},
   "outputs": [],
   "source": [
    "# creating instance of one-hot-encoder\n",
    "from sklearn.preprocessing import OneHotEncoder\n",
    "import numpy as np\n",
    "enc = OneHotEncoder(handle_unknown='ignore')\n",
    "y_onehot = enc.fit_transform(np.array(y).reshape(-1, 1))\n",
    "# turn the sparse matrix into a pandas dataframe\n",
    "y = pd.DataFrame(y_onehot.toarray())\n",
    "display(y[:10])"
   ]
  },
  {
   "cell_type": "code",
   "execution_count": null,
   "id": "847cf639",
   "metadata": {},
   "outputs": [],
   "source": [
    "# Initialise model\n",
    "model_mlp = Sequential()\n",
    "model_mlp.add(Dense(50 , input_dim = 675, kernel_initializer=\"uniform\", activation = 'relu')) # input layer\n",
    "model_mlp.add(Dense(30, kernel_initializer=\"uniform\", activation = 'relu')) # hidden layer\n",
    "model_mlp.add(Dense(len(categories), activation = 'softmax')) # output layer\n",
    "model_mlp.summary()"
   ]
  },
  {
   "cell_type": "code",
   "execution_count": null,
   "id": "bc8e3134",
   "metadata": {},
   "outputs": [],
   "source": [
    "# Compile model\n",
    "model_mlp.compile(optimizer = 'adam', loss = 'categorical_crossentropy', metrics = ['accuracy'])"
   ]
  },
  {
   "cell_type": "code",
   "execution_count": null,
   "id": "a2c61e63",
   "metadata": {},
   "outputs": [],
   "source": [
    "# Train\n",
    "history = model_mlp.fit(X_train, y_train, batch_size = 10, epochs = 10, validation_split = 0.2)"
   ]
  },
  {
   "cell_type": "code",
   "execution_count": null,
   "id": "1dba2587",
   "metadata": {},
   "outputs": [],
   "source": [
    "import matplotlib.pyplot as plt\n",
    "import seaborn as sns\n",
    "\n",
    "plt.plot(history.history['loss'], color='m')\n",
    "plt.plot(history.history['val_loss'], color='c')\n",
    "plt.title('MLP loss')\n",
    "plt.ylabel('loss')\n",
    "plt.xlabel('epoch')\n",
    "plt.legend(['train', 'validation'], loc = 'upper right')\n",
    "\n",
    "sns.despine(offset=5)\n",
    "\n",
    "plt.show()"
   ]
  }
 ],
 "metadata": {
  "kernelspec": {
   "display_name": "Python env (brainhack)",
   "language": "python",
   "name": "brainhack"
  },
  "language_info": {
   "codemirror_mode": {
    "name": "ipython",
    "version": 3
   },
   "file_extension": ".py",
   "mimetype": "text/x-python",
   "name": "python",
   "nbconvert_exporter": "python",
   "pygments_lexer": "ipython3",
   "version": "3.10.10"
  }
 },
 "nbformat": 4,
 "nbformat_minor": 5
}
